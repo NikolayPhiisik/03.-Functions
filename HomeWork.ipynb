{
 "cells": [
  {
   "cell_type": "code",
   "execution_count": 2,
   "metadata": {},
   "outputs": [
    {
     "name": "stdout",
     "output_type": "stream",
     "text": [
      "Введите номер документа:56\n",
      "Документ в базе не найден!\n"
     ]
    }
   ],
   "source": [
    "# vladelec\n",
    "documents = [\n",
    "{'type': 'passport', 'number': '2207876234', 'name': 'Василий Гупкин'},\n",
    "{'type': 'invoice', 'number': '11-2', 'name': 'Геннадий Покемонов'},\n",
    "{'type': 'insurance', 'number': '10006', 'name': 'Аристарх Павлов'}\n",
    "]\n",
    "\n",
    "def vladelec(documents):\n",
    "    document_num = input('Введите номер документа:')\n",
    "    for d in documents:\n",
    "        if document_num in d['number']:\n",
    "            print(f'Владелец документа:', d['name'])\n",
    "            return\n",
    "    else:\n",
    "        print('Документ в базе не найден!')\n",
    "        \n",
    "vladelec(documents)"
   ]
  },
  {
   "cell_type": "code",
   "execution_count": 4,
   "metadata": {},
   "outputs": [
    {
     "name": "stdout",
     "output_type": "stream",
     "text": [
      "ВВедите номер документа:11-2\n",
      "Номер полки: 1\n"
     ]
    }
   ],
   "source": [
    "#shelf\n",
    "directories = {\n",
    "'1': ['2207876234','11-2'],\n",
    "'2': ['10006'],\n",
    "'3': []\n",
    "}\n",
    "def shelf(directories):\n",
    "    document_num = input('ВВедите номер документа:')\n",
    "    for key,value in directories.items():\n",
    "        if document_num in value:\n",
    "            print(f'Номер полки:',key)\n",
    "            return\n",
    "    else:\n",
    "        print('Документ в базе не найден!')\n",
    "shelf(directories)"
   ]
  },
  {
   "cell_type": "code",
   "execution_count": 5,
   "metadata": {},
   "outputs": [
    {
     "name": "stdout",
     "output_type": "stream",
     "text": [
      "№: 2207876234, тип: passport, владелец: Василий Гупкин, полка хранения: 1\n",
      "№: 11-2, тип: invoice, владелец: Геннадий Покемонов, полка хранения: 1\n",
      "№: 10006, тип: insurance, владелец: Аристарх Павлов, полка хранения: 2\n"
     ]
    }
   ],
   "source": [
    "#all info\n",
    "documents = [\n",
    "{'type': 'passport', 'number': '2207876234', 'name': 'Василий Гупкин'},\n",
    "{'type': 'invoice', 'number': '11-2', 'name': 'Геннадий Покемонов'},\n",
    "{'type': 'insurance', 'number': '10006', 'name': 'Аристарх Павлов'}\n",
    "]\n",
    "directories = {\n",
    "'1': ['2207876234','11-2'],\n",
    "'2': ['10006'],\n",
    "'3': []\n",
    "}\n",
    "def info(all):\n",
    "    for el in documents:\n",
    "        num_doc = el['number']\n",
    "        for shelf,doc in directories.items():\n",
    "            if num_doc in doc:\n",
    "                num_shelf = shelf\n",
    "                print(f'№: {el[\"number\"]}, тип: {el[\"type\"]}, владелец: {el[\"name\"]}, полка хранения: {num_shelf}')\n",
    "info(all)"
   ]
  },
  {
   "cell_type": "code",
   "execution_count": 9,
   "metadata": {},
   "outputs": [
    {
     "name": "stdout",
     "output_type": "stream",
     "text": [
      "ВВедите номер полки:78\n",
      "Полка добавлена.Текущий перечень полок: 1,2,3,56,78\n"
     ]
    }
   ],
   "source": [
    "# add new shelf\n",
    "def new_shelf(directories): \n",
    "    document_num = input('ВВедите номер полки:') \n",
    "    if document_num not in directories: \n",
    "        directories[document_num] = []\n",
    "        print(f'Полка добавлена.Текущий перечень полок: {\",\".join(directories.keys())}')\n",
    "        return\n",
    "    else: \n",
    "        if document_num in directories: \n",
    "            print(f'Такая полка уже существует.Текщий перечень полок:{\",\".join(directories.keys())}') \n",
    "new_shelf(directories)"
   ]
  },
  {
   "cell_type": "code",
   "execution_count": 11,
   "metadata": {},
   "outputs": [
    {
     "name": "stdout",
     "output_type": "stream",
     "text": [
      "Введите номер полки:56\n",
      "Полка удалена.Текущий перечень полок:1,2,3,78\n"
     ]
    }
   ],
   "source": [
    "#del shelf\n",
    "def del_shelf(directories):\n",
    "    document_num = input('Введите номер полки:')\n",
    "    if document_num in directories.keys() and directories[document_num] == []:\n",
    "        del directories[document_num]\n",
    "        print(f'Полка удалена.Текущий перечень полок:{\",\".join(directories.keys())}')\n",
    "    elif document_num in directories and directories[document_num] != []:\n",
    "        print(f'На полке есть документ, удалите их перед удалением.Текущий перечень полок:{\",\".join(directories.keys())}')\n",
    "del_shelf(directories)       "
   ]
  },
  {
   "cell_type": "code",
   "execution_count": 12,
   "metadata": {},
   "outputs": [
    {
     "name": "stdout",
     "output_type": "stream",
     "text": [
      "Введите команду:as\n",
      "ВВедите номер полки:2\n",
      "Такая полка уже существует.Текщий перечень полок:1,2,3,78\n",
      "Введите команду:ds\n",
      "Введите номер полки:1\n",
      "На полке есть документ, удалите их перед удалением.Текущий перечень полок:1,2,3,78\n",
      "Введите команду:ds\n",
      "Введите номер полки:78\n",
      "Полка удалена.Текущий перечень полок:1,2,3\n",
      "Введите команду:i\n",
      "№: 2207876234, тип: passport, владелец: Василий Гупкин, полка хранения: 1\n",
      "№: 11-2, тип: invoice, владелец: Геннадий Покемонов, полка хранения: 1\n",
      "№: 10006, тип: insurance, владелец: Аристарх Павлов, полка хранения: 2\n",
      "Введите команду:q\n",
      "Команда завершена!\n"
     ]
    }
   ],
   "source": [
    "def main(all):\n",
    "    while True:\n",
    "        user_input = input('Введите команду:')\n",
    "        if user_input == 'p':\n",
    "            vladelec(documents)\n",
    "        elif user_input == 's':\n",
    "            shelf(directories)\n",
    "        elif user_input == 'i':\n",
    "            info(all)\n",
    "        elif user_input == 'as':\n",
    "            new_shelf(directories)\n",
    "        elif user_input == 'ds':\n",
    "            del_shelf(directories)\n",
    "        elif user_input == 'q':\n",
    "            print('Команда завершена!')\n",
    "            break\n",
    "main(all)   "
   ]
  }
 ],
 "metadata": {
  "kernelspec": {
   "display_name": "Python 3",
   "language": "python",
   "name": "python3"
  },
  "language_info": {
   "codemirror_mode": {
    "name": "ipython",
    "version": 3
   },
   "file_extension": ".py",
   "mimetype": "text/x-python",
   "name": "python",
   "nbconvert_exporter": "python",
   "pygments_lexer": "ipython3",
   "version": "3.8.3"
  }
 },
 "nbformat": 4,
 "nbformat_minor": 4
}
